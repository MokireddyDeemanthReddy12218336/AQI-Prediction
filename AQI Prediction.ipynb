{
 "cells": [
  {
   "cell_type": "code",
   "execution_count": 71,
   "metadata": {},
   "outputs": [],
   "source": [
    "import pandas as pd"
   ]
  },
  {
   "cell_type": "code",
   "execution_count": 72,
   "metadata": {},
   "outputs": [],
   "source": [
    "df=pd.read_csv('AQI.csv')"
   ]
  },
  {
   "cell_type": "code",
   "execution_count": 73,
   "metadata": {},
   "outputs": [
    {
     "data": {
      "text/html": [
       "<div>\n",
       "<style scoped>\n",
       "    .dataframe tbody tr th:only-of-type {\n",
       "        vertical-align: middle;\n",
       "    }\n",
       "\n",
       "    .dataframe tbody tr th {\n",
       "        vertical-align: top;\n",
       "    }\n",
       "\n",
       "    .dataframe thead th {\n",
       "        text-align: right;\n",
       "    }\n",
       "</style>\n",
       "<table border=\"1\" class=\"dataframe\">\n",
       "  <thead>\n",
       "    <tr style=\"text-align: right;\">\n",
       "      <th></th>\n",
       "      <th>country</th>\n",
       "      <th>state</th>\n",
       "      <th>city</th>\n",
       "      <th>station</th>\n",
       "      <th>last_update</th>\n",
       "      <th>latitude</th>\n",
       "      <th>longitude</th>\n",
       "      <th>pollutant_id</th>\n",
       "      <th>pollutant_min</th>\n",
       "      <th>pollutant_max</th>\n",
       "      <th>pollutant_avg</th>\n",
       "    </tr>\n",
       "  </thead>\n",
       "  <tbody>\n",
       "    <tr>\n",
       "      <th>0</th>\n",
       "      <td>India</td>\n",
       "      <td>Bihar</td>\n",
       "      <td>Begusarai</td>\n",
       "      <td>Lohiyanagar, Begusarai - BSPCB</td>\n",
       "      <td>21-02-2025 14:00:00</td>\n",
       "      <td>25.42742</td>\n",
       "      <td>86.138861</td>\n",
       "      <td>NH3</td>\n",
       "      <td>11.0</td>\n",
       "      <td>17.0</td>\n",
       "      <td>12.0</td>\n",
       "    </tr>\n",
       "    <tr>\n",
       "      <th>1</th>\n",
       "      <td>India</td>\n",
       "      <td>Bihar</td>\n",
       "      <td>Begusarai</td>\n",
       "      <td>Lohiyanagar, Begusarai - BSPCB</td>\n",
       "      <td>21-02-2025 14:00:00</td>\n",
       "      <td>25.42742</td>\n",
       "      <td>86.138861</td>\n",
       "      <td>SO2</td>\n",
       "      <td>3.0</td>\n",
       "      <td>124.0</td>\n",
       "      <td>47.0</td>\n",
       "    </tr>\n",
       "    <tr>\n",
       "      <th>2</th>\n",
       "      <td>India</td>\n",
       "      <td>Bihar</td>\n",
       "      <td>Begusarai</td>\n",
       "      <td>Lohiyanagar, Begusarai - BSPCB</td>\n",
       "      <td>21-02-2025 14:00:00</td>\n",
       "      <td>25.42742</td>\n",
       "      <td>86.138861</td>\n",
       "      <td>OZONE</td>\n",
       "      <td>1.0</td>\n",
       "      <td>50.0</td>\n",
       "      <td>11.0</td>\n",
       "    </tr>\n",
       "    <tr>\n",
       "      <th>3</th>\n",
       "      <td>India</td>\n",
       "      <td>Bihar</td>\n",
       "      <td>Bettiah</td>\n",
       "      <td>Kamalnath Nagar, Bettiah - BSPCB</td>\n",
       "      <td>21-02-2025 14:00:00</td>\n",
       "      <td>26.80365</td>\n",
       "      <td>84.519540</td>\n",
       "      <td>PM10</td>\n",
       "      <td>96.0</td>\n",
       "      <td>248.0</td>\n",
       "      <td>171.0</td>\n",
       "    </tr>\n",
       "    <tr>\n",
       "      <th>4</th>\n",
       "      <td>India</td>\n",
       "      <td>Bihar</td>\n",
       "      <td>Bettiah</td>\n",
       "      <td>Kamalnath Nagar, Bettiah - BSPCB</td>\n",
       "      <td>21-02-2025 14:00:00</td>\n",
       "      <td>26.80365</td>\n",
       "      <td>84.519540</td>\n",
       "      <td>SO2</td>\n",
       "      <td>11.0</td>\n",
       "      <td>20.0</td>\n",
       "      <td>17.0</td>\n",
       "    </tr>\n",
       "  </tbody>\n",
       "</table>\n",
       "</div>"
      ],
      "text/plain": [
       "  country  state       city                           station  \\\n",
       "0   India  Bihar  Begusarai    Lohiyanagar, Begusarai - BSPCB   \n",
       "1   India  Bihar  Begusarai    Lohiyanagar, Begusarai - BSPCB   \n",
       "2   India  Bihar  Begusarai    Lohiyanagar, Begusarai - BSPCB   \n",
       "3   India  Bihar    Bettiah  Kamalnath Nagar, Bettiah - BSPCB   \n",
       "4   India  Bihar    Bettiah  Kamalnath Nagar, Bettiah - BSPCB   \n",
       "\n",
       "           last_update  latitude  longitude pollutant_id  pollutant_min  \\\n",
       "0  21-02-2025 14:00:00  25.42742  86.138861          NH3           11.0   \n",
       "1  21-02-2025 14:00:00  25.42742  86.138861          SO2            3.0   \n",
       "2  21-02-2025 14:00:00  25.42742  86.138861        OZONE            1.0   \n",
       "3  21-02-2025 14:00:00  26.80365  84.519540         PM10           96.0   \n",
       "4  21-02-2025 14:00:00  26.80365  84.519540          SO2           11.0   \n",
       "\n",
       "   pollutant_max  pollutant_avg  \n",
       "0           17.0           12.0  \n",
       "1          124.0           47.0  \n",
       "2           50.0           11.0  \n",
       "3          248.0          171.0  \n",
       "4           20.0           17.0  "
      ]
     },
     "execution_count": 73,
     "metadata": {},
     "output_type": "execute_result"
    }
   ],
   "source": [
    "df.head()"
   ]
  },
  {
   "cell_type": "code",
   "execution_count": 74,
   "metadata": {},
   "outputs": [
    {
     "data": {
      "text/plain": [
       "country            0\n",
       "state              0\n",
       "city               0\n",
       "station            0\n",
       "last_update        0\n",
       "latitude           0\n",
       "longitude          0\n",
       "pollutant_id       0\n",
       "pollutant_min    188\n",
       "pollutant_max    188\n",
       "pollutant_avg    188\n",
       "dtype: int64"
      ]
     },
     "execution_count": 74,
     "metadata": {},
     "output_type": "execute_result"
    }
   ],
   "source": [
    "df.isnull().sum()"
   ]
  },
  {
   "cell_type": "code",
   "execution_count": 75,
   "metadata": {},
   "outputs": [
    {
     "name": "stdout",
     "output_type": "stream",
     "text": [
      "<class 'pandas.core.frame.DataFrame'>\n",
      "RangeIndex: 3249 entries, 0 to 3248\n",
      "Data columns (total 11 columns):\n",
      " #   Column         Non-Null Count  Dtype  \n",
      "---  ------         --------------  -----  \n",
      " 0   country        3249 non-null   object \n",
      " 1   state          3249 non-null   object \n",
      " 2   city           3249 non-null   object \n",
      " 3   station        3249 non-null   object \n",
      " 4   last_update    3249 non-null   object \n",
      " 5   latitude       3249 non-null   float64\n",
      " 6   longitude      3249 non-null   float64\n",
      " 7   pollutant_id   3249 non-null   object \n",
      " 8   pollutant_min  3061 non-null   float64\n",
      " 9   pollutant_max  3061 non-null   float64\n",
      " 10  pollutant_avg  3061 non-null   float64\n",
      "dtypes: float64(5), object(6)\n",
      "memory usage: 279.3+ KB\n"
     ]
    }
   ],
   "source": [
    "df.info()"
   ]
  },
  {
   "cell_type": "code",
   "execution_count": 76,
   "metadata": {},
   "outputs": [],
   "source": [
    "df['pollutant_min'].fillna(df['pollutant_min'].mean(), inplace=True)\n",
    "df['pollutant_max'].fillna(df['pollutant_max'].mean(), inplace=True)\n",
    "df['pollutant_avg'].fillna(df['pollutant_avg'].mean(), inplace=True)\n"
   ]
  },
  {
   "cell_type": "code",
   "execution_count": 77,
   "metadata": {},
   "outputs": [
    {
     "data": {
      "text/plain": [
       "country          0\n",
       "state            0\n",
       "city             0\n",
       "station          0\n",
       "last_update      0\n",
       "latitude         0\n",
       "longitude        0\n",
       "pollutant_id     0\n",
       "pollutant_min    0\n",
       "pollutant_max    0\n",
       "pollutant_avg    0\n",
       "dtype: int64"
      ]
     },
     "execution_count": 77,
     "metadata": {},
     "output_type": "execute_result"
    }
   ],
   "source": [
    "df.isnull().sum()"
   ]
  },
  {
   "cell_type": "code",
   "execution_count": 78,
   "metadata": {},
   "outputs": [
    {
     "name": "stdout",
     "output_type": "stream",
     "text": [
      "['NH3' 'SO2' 'OZONE' 'PM10' 'CO' 'NO2' 'PM2.5']\n"
     ]
    }
   ],
   "source": [
    "unique_pollutants=df['pollutant_id'].unique()\n",
    "print(unique_pollutants)"
   ]
  },
  {
   "cell_type": "code",
   "execution_count": 79,
   "metadata": {},
   "outputs": [
    {
     "name": "stdout",
     "output_type": "stream",
     "text": [
      "                               station          last_update         AQI\n",
      "0           32Bungalows, Bhilai - CECB  21-02-2025 14:00:00  376.568047\n",
      "1                 AIIMS, Raipur - CECB  21-02-2025 14:00:00  138.551724\n",
      "2         Adarsh Nagar, Jaipur - RSPCB  21-02-2025 14:00:00  169.275862\n",
      "3           Airport Area, Indore - IMC  21-02-2025 14:00:00  174.936709\n",
      "4    Alandur Bus Depot, Chennai - CPCB  21-02-2025 14:00:00   61.137931\n",
      "..                                 ...                  ...         ...\n",
      "482               Worli, Mumbai - MPCB  21-02-2025 14:00:00  200.000000\n",
      "483   Yamunapuram, Bulandshahr - UPPCB  21-02-2025 14:00:00   83.103448\n",
      "484    Yerramukkapalli, Kadapa - APPCB  21-02-2025 14:00:00  131.724138\n",
      "485   Zero Point GICI, Gangtok - SSPCB  21-02-2025 14:00:00  214.655172\n",
      "486        Zoo Park, Hyderabad - TSPCB  21-02-2025 14:00:00  245.379310\n",
      "\n",
      "[487 rows x 3 columns]\n"
     ]
    }
   ],
   "source": [
    "import pandas as pd\n",
    "\n",
    "# AQI Breakpoints (Including NH3)\n",
    "aqi_breakpoints = {\n",
    "    \"PM2.5\": [(0, 30, 0, 50), (31, 60, 51, 100), (61, 90, 101, 200), (91, 120, 201, 300), (121, 250, 301, 400)],\n",
    "    \"PM10\": [(0, 50, 0, 50), (51, 100, 51, 100), (101, 250, 101, 200), (251, 350, 201, 300), (351, 430, 301, 400)],\n",
    "    \"SO2\": [(0, 40, 0, 50), (41, 80, 51, 100), (81, 380, 101, 200), (381, 800, 201, 300), (801, 1600, 301, 400)],\n",
    "    \"NO2\": [(0, 40, 0, 50), (41, 80, 51, 100), (81, 180, 101, 200), (181, 280, 201, 300), (281, 400, 301, 400)],\n",
    "    \"CO\": [(0, 1, 0, 50), (1.1, 2, 51, 100), (2.1, 10, 101, 200), (10.1, 17, 201, 300), (17.1, 34, 301, 400)],\n",
    "    \"OZONE\": [(0, 50, 0, 50), (51, 100, 51, 100), (101, 168, 101, 200), (169, 208, 201, 300), (209, 748, 301, 400)],\n",
    "    \"NH3\": [(0, 200, 0, 50), (201, 400, 51, 100), (401, 800, 101, 200), (801, 1200, 201, 300), (1201, 1800, 301, 400)]  # Added NH3\n",
    "}\n",
    "\n",
    "def calculate_aqi(pollutant, concentration):\n",
    "    if pollutant not in aqi_breakpoints:\n",
    "        return None  # If pollutant AQI levels are not defined\n",
    "    \n",
    "    for c_low, c_high, i_low, i_high in aqi_breakpoints[pollutant]:\n",
    "        if c_low <= concentration <= c_high:\n",
    "            return ((i_high - i_low) / (c_high - c_low)) * (concentration - c_low) + i_low\n",
    "    return None  # If out of range\n",
    "\n",
    "# Load dataset\n",
    "df = pd.read_csv('AQI.csv')\n",
    "\n",
    "# Calculate AQI for each pollutant, including NH3\n",
    "df[\"AQI\"] = df.apply(lambda row: calculate_aqi(row[\"pollutant_id\"], row[\"pollutant_avg\"]), axis=1)\n",
    "\n",
    "# Get the highest AQI per station\n",
    "df_aqi = df.groupby([\"station\", \"last_update\"])[\"AQI\"].max().reset_index()\n",
    "\n",
    "# Display AQI values\n",
    "print(df_aqi)\n"
   ]
  },
  {
   "cell_type": "code",
   "execution_count": 80,
   "metadata": {},
   "outputs": [
    {
     "data": {
      "text/plain": [
       "country            0\n",
       "state              0\n",
       "city               0\n",
       "station            0\n",
       "last_update        0\n",
       "latitude           0\n",
       "longitude          0\n",
       "pollutant_id       0\n",
       "pollutant_min    188\n",
       "pollutant_max    188\n",
       "pollutant_avg    188\n",
       "AQI              407\n",
       "dtype: int64"
      ]
     },
     "execution_count": 80,
     "metadata": {},
     "output_type": "execute_result"
    }
   ],
   "source": [
    "df.isnull().sum()"
   ]
  },
  {
   "cell_type": "code",
   "execution_count": 81,
   "metadata": {},
   "outputs": [
    {
     "name": "stdout",
     "output_type": "stream",
     "text": [
      "country          0\n",
      "state            0\n",
      "city             0\n",
      "station          0\n",
      "last_update      0\n",
      "latitude         0\n",
      "longitude        0\n",
      "pollutant_id     0\n",
      "pollutant_min    0\n",
      "pollutant_max    0\n",
      "pollutant_avg    0\n",
      "AQI              0\n",
      "dtype: int64\n"
     ]
    }
   ],
   "source": [
    "import pandas as pd\n",
    "\n",
    "# Fill missing values in pollutant-related columns with mean\n",
    "df['pollutant_min'].fillna(df['pollutant_min'].mean(), inplace=True)\n",
    "df['pollutant_max'].fillna(df['pollutant_max'].mean(), inplace=True)\n",
    "df['pollutant_avg'].fillna(df['pollutant_avg'].mean(), inplace=True)\n",
    "\n",
    "# Fill missing values in AQI with median (since AQI might have outliers)\n",
    "df['AQI'].fillna(df['AQI'].median(), inplace=True)\n",
    "\n",
    "# Verify missing values are fixed\n",
    "print(df.isnull().sum())\n"
   ]
  },
  {
   "cell_type": "code",
   "execution_count": 82,
   "metadata": {},
   "outputs": [
    {
     "data": {
      "text/html": [
       "<div>\n",
       "<style scoped>\n",
       "    .dataframe tbody tr th:only-of-type {\n",
       "        vertical-align: middle;\n",
       "    }\n",
       "\n",
       "    .dataframe tbody tr th {\n",
       "        vertical-align: top;\n",
       "    }\n",
       "\n",
       "    .dataframe thead th {\n",
       "        text-align: right;\n",
       "    }\n",
       "</style>\n",
       "<table border=\"1\" class=\"dataframe\">\n",
       "  <thead>\n",
       "    <tr style=\"text-align: right;\">\n",
       "      <th></th>\n",
       "      <th>country</th>\n",
       "      <th>state</th>\n",
       "      <th>city</th>\n",
       "      <th>station</th>\n",
       "      <th>last_update</th>\n",
       "      <th>latitude</th>\n",
       "      <th>longitude</th>\n",
       "      <th>pollutant_id</th>\n",
       "      <th>pollutant_min</th>\n",
       "      <th>pollutant_max</th>\n",
       "      <th>pollutant_avg</th>\n",
       "      <th>AQI</th>\n",
       "    </tr>\n",
       "  </thead>\n",
       "  <tbody>\n",
       "    <tr>\n",
       "      <th>0</th>\n",
       "      <td>India</td>\n",
       "      <td>Bihar</td>\n",
       "      <td>Begusarai</td>\n",
       "      <td>Lohiyanagar, Begusarai - BSPCB</td>\n",
       "      <td>21-02-2025 14:00:00</td>\n",
       "      <td>0.569993</td>\n",
       "      <td>1.522069</td>\n",
       "      <td>NH3</td>\n",
       "      <td>-0.507722</td>\n",
       "      <td>-0.793731</td>\n",
       "      <td>-0.769351</td>\n",
       "      <td>3.000000</td>\n",
       "    </tr>\n",
       "    <tr>\n",
       "      <th>1</th>\n",
       "      <td>India</td>\n",
       "      <td>Bihar</td>\n",
       "      <td>Begusarai</td>\n",
       "      <td>Lohiyanagar, Begusarai - BSPCB</td>\n",
       "      <td>21-02-2025 14:00:00</td>\n",
       "      <td>0.569993</td>\n",
       "      <td>1.522069</td>\n",
       "      <td>SO2</td>\n",
       "      <td>-0.832372</td>\n",
       "      <td>0.616121</td>\n",
       "      <td>0.074876</td>\n",
       "      <td>58.538462</td>\n",
       "    </tr>\n",
       "    <tr>\n",
       "      <th>2</th>\n",
       "      <td>India</td>\n",
       "      <td>Bihar</td>\n",
       "      <td>Begusarai</td>\n",
       "      <td>Lohiyanagar, Begusarai - BSPCB</td>\n",
       "      <td>21-02-2025 14:00:00</td>\n",
       "      <td>0.569993</td>\n",
       "      <td>1.522069</td>\n",
       "      <td>OZONE</td>\n",
       "      <td>-0.913534</td>\n",
       "      <td>-0.358917</td>\n",
       "      <td>-0.793472</td>\n",
       "      <td>11.000000</td>\n",
       "    </tr>\n",
       "    <tr>\n",
       "      <th>3</th>\n",
       "      <td>India</td>\n",
       "      <td>Bihar</td>\n",
       "      <td>Bettiah</td>\n",
       "      <td>Kamalnath Nagar, Bettiah - BSPCB</td>\n",
       "      <td>21-02-2025 14:00:00</td>\n",
       "      <td>0.817516</td>\n",
       "      <td>1.190632</td>\n",
       "      <td>PM10</td>\n",
       "      <td>2.941679</td>\n",
       "      <td>2.249969</td>\n",
       "      <td>3.065853</td>\n",
       "      <td>147.510067</td>\n",
       "    </tr>\n",
       "    <tr>\n",
       "      <th>4</th>\n",
       "      <td>India</td>\n",
       "      <td>Bihar</td>\n",
       "      <td>Bettiah</td>\n",
       "      <td>Kamalnath Nagar, Bettiah - BSPCB</td>\n",
       "      <td>21-02-2025 14:00:00</td>\n",
       "      <td>0.817516</td>\n",
       "      <td>1.190632</td>\n",
       "      <td>SO2</td>\n",
       "      <td>-0.507722</td>\n",
       "      <td>-0.754202</td>\n",
       "      <td>-0.648747</td>\n",
       "      <td>21.250000</td>\n",
       "    </tr>\n",
       "  </tbody>\n",
       "</table>\n",
       "</div>"
      ],
      "text/plain": [
       "  country  state       city                           station  \\\n",
       "0   India  Bihar  Begusarai    Lohiyanagar, Begusarai - BSPCB   \n",
       "1   India  Bihar  Begusarai    Lohiyanagar, Begusarai - BSPCB   \n",
       "2   India  Bihar  Begusarai    Lohiyanagar, Begusarai - BSPCB   \n",
       "3   India  Bihar    Bettiah  Kamalnath Nagar, Bettiah - BSPCB   \n",
       "4   India  Bihar    Bettiah  Kamalnath Nagar, Bettiah - BSPCB   \n",
       "\n",
       "           last_update  latitude  longitude pollutant_id  pollutant_min  \\\n",
       "0  21-02-2025 14:00:00  0.569993   1.522069          NH3      -0.507722   \n",
       "1  21-02-2025 14:00:00  0.569993   1.522069          SO2      -0.832372   \n",
       "2  21-02-2025 14:00:00  0.569993   1.522069        OZONE      -0.913534   \n",
       "3  21-02-2025 14:00:00  0.817516   1.190632         PM10       2.941679   \n",
       "4  21-02-2025 14:00:00  0.817516   1.190632          SO2      -0.507722   \n",
       "\n",
       "   pollutant_max  pollutant_avg         AQI  \n",
       "0      -0.793731      -0.769351    3.000000  \n",
       "1       0.616121       0.074876   58.538462  \n",
       "2      -0.358917      -0.793472   11.000000  \n",
       "3       2.249969       3.065853  147.510067  \n",
       "4      -0.754202      -0.648747   21.250000  "
      ]
     },
     "execution_count": 82,
     "metadata": {},
     "output_type": "execute_result"
    }
   ],
   "source": [
    "from sklearn.preprocessing import StandardScaler\n",
    "\n",
    "# Selecting numerical columns\n",
    "num_cols = ['pollutant_min', 'pollutant_max', 'pollutant_avg', 'latitude', 'longitude']\n",
    "\n",
    "# Initializing StandardScaler\n",
    "scaler = StandardScaler()\n",
    "\n",
    "# Applying Standardization\n",
    "df[num_cols] = scaler.fit_transform(df[num_cols])\n",
    "\n",
    "df.head()\n"
   ]
  },
  {
   "cell_type": "code",
   "execution_count": 83,
   "metadata": {},
   "outputs": [],
   "source": [
    "df = pd.get_dummies(df, columns=['pollutant_id', 'state', 'city', 'station'], drop_first=True)\n"
   ]
  },
  {
   "cell_type": "code",
   "execution_count": 84,
   "metadata": {},
   "outputs": [
    {
     "data": {
      "text/html": [
       "<div>\n",
       "<style scoped>\n",
       "    .dataframe tbody tr th:only-of-type {\n",
       "        vertical-align: middle;\n",
       "    }\n",
       "\n",
       "    .dataframe tbody tr th {\n",
       "        vertical-align: top;\n",
       "    }\n",
       "\n",
       "    .dataframe thead th {\n",
       "        text-align: right;\n",
       "    }\n",
       "</style>\n",
       "<table border=\"1\" class=\"dataframe\">\n",
       "  <thead>\n",
       "    <tr style=\"text-align: right;\">\n",
       "      <th></th>\n",
       "      <th>country</th>\n",
       "      <th>last_update</th>\n",
       "      <th>latitude</th>\n",
       "      <th>longitude</th>\n",
       "      <th>pollutant_min</th>\n",
       "      <th>pollutant_max</th>\n",
       "      <th>pollutant_avg</th>\n",
       "      <th>AQI</th>\n",
       "      <th>pollutant_id_NH3</th>\n",
       "      <th>pollutant_id_NO2</th>\n",
       "      <th>...</th>\n",
       "      <th>station_Vile Parle West, Mumbai - MPCB</th>\n",
       "      <th>station_Vinoba Nagara, Shivamogga - KSPCB</th>\n",
       "      <th>station_Vivek Vihar, Delhi - DPCC</th>\n",
       "      <th>station_Ward-32 Bapupara, Siliguri - WBPCB</th>\n",
       "      <th>station_Wazirpur, Delhi - DPCC</th>\n",
       "      <th>station_Worli, Mumbai - MPCB</th>\n",
       "      <th>station_Yamunapuram, Bulandshahr - UPPCB</th>\n",
       "      <th>station_Yerramukkapalli, Kadapa - APPCB</th>\n",
       "      <th>station_Zero Point GICI, Gangtok - SSPCB</th>\n",
       "      <th>station_Zoo Park, Hyderabad - TSPCB</th>\n",
       "    </tr>\n",
       "  </thead>\n",
       "  <tbody>\n",
       "    <tr>\n",
       "      <th>0</th>\n",
       "      <td>India</td>\n",
       "      <td>21-02-2025 14:00:00</td>\n",
       "      <td>0.569993</td>\n",
       "      <td>1.522069</td>\n",
       "      <td>-0.507722</td>\n",
       "      <td>-0.793731</td>\n",
       "      <td>-0.769351</td>\n",
       "      <td>3.000000</td>\n",
       "      <td>1</td>\n",
       "      <td>0</td>\n",
       "      <td>...</td>\n",
       "      <td>0</td>\n",
       "      <td>0</td>\n",
       "      <td>0</td>\n",
       "      <td>0</td>\n",
       "      <td>0</td>\n",
       "      <td>0</td>\n",
       "      <td>0</td>\n",
       "      <td>0</td>\n",
       "      <td>0</td>\n",
       "      <td>0</td>\n",
       "    </tr>\n",
       "    <tr>\n",
       "      <th>1</th>\n",
       "      <td>India</td>\n",
       "      <td>21-02-2025 14:00:00</td>\n",
       "      <td>0.569993</td>\n",
       "      <td>1.522069</td>\n",
       "      <td>-0.832372</td>\n",
       "      <td>0.616121</td>\n",
       "      <td>0.074876</td>\n",
       "      <td>58.538462</td>\n",
       "      <td>0</td>\n",
       "      <td>0</td>\n",
       "      <td>...</td>\n",
       "      <td>0</td>\n",
       "      <td>0</td>\n",
       "      <td>0</td>\n",
       "      <td>0</td>\n",
       "      <td>0</td>\n",
       "      <td>0</td>\n",
       "      <td>0</td>\n",
       "      <td>0</td>\n",
       "      <td>0</td>\n",
       "      <td>0</td>\n",
       "    </tr>\n",
       "    <tr>\n",
       "      <th>2</th>\n",
       "      <td>India</td>\n",
       "      <td>21-02-2025 14:00:00</td>\n",
       "      <td>0.569993</td>\n",
       "      <td>1.522069</td>\n",
       "      <td>-0.913534</td>\n",
       "      <td>-0.358917</td>\n",
       "      <td>-0.793472</td>\n",
       "      <td>11.000000</td>\n",
       "      <td>0</td>\n",
       "      <td>0</td>\n",
       "      <td>...</td>\n",
       "      <td>0</td>\n",
       "      <td>0</td>\n",
       "      <td>0</td>\n",
       "      <td>0</td>\n",
       "      <td>0</td>\n",
       "      <td>0</td>\n",
       "      <td>0</td>\n",
       "      <td>0</td>\n",
       "      <td>0</td>\n",
       "      <td>0</td>\n",
       "    </tr>\n",
       "    <tr>\n",
       "      <th>3</th>\n",
       "      <td>India</td>\n",
       "      <td>21-02-2025 14:00:00</td>\n",
       "      <td>0.817516</td>\n",
       "      <td>1.190632</td>\n",
       "      <td>2.941679</td>\n",
       "      <td>2.249969</td>\n",
       "      <td>3.065853</td>\n",
       "      <td>147.510067</td>\n",
       "      <td>0</td>\n",
       "      <td>0</td>\n",
       "      <td>...</td>\n",
       "      <td>0</td>\n",
       "      <td>0</td>\n",
       "      <td>0</td>\n",
       "      <td>0</td>\n",
       "      <td>0</td>\n",
       "      <td>0</td>\n",
       "      <td>0</td>\n",
       "      <td>0</td>\n",
       "      <td>0</td>\n",
       "      <td>0</td>\n",
       "    </tr>\n",
       "    <tr>\n",
       "      <th>4</th>\n",
       "      <td>India</td>\n",
       "      <td>21-02-2025 14:00:00</td>\n",
       "      <td>0.817516</td>\n",
       "      <td>1.190632</td>\n",
       "      <td>-0.507722</td>\n",
       "      <td>-0.754202</td>\n",
       "      <td>-0.648747</td>\n",
       "      <td>21.250000</td>\n",
       "      <td>0</td>\n",
       "      <td>0</td>\n",
       "      <td>...</td>\n",
       "      <td>0</td>\n",
       "      <td>0</td>\n",
       "      <td>0</td>\n",
       "      <td>0</td>\n",
       "      <td>0</td>\n",
       "      <td>0</td>\n",
       "      <td>0</td>\n",
       "      <td>0</td>\n",
       "      <td>0</td>\n",
       "      <td>0</td>\n",
       "    </tr>\n",
       "  </tbody>\n",
       "</table>\n",
       "<p>5 rows × 779 columns</p>\n",
       "</div>"
      ],
      "text/plain": [
       "  country          last_update  latitude  longitude  pollutant_min  \\\n",
       "0   India  21-02-2025 14:00:00  0.569993   1.522069      -0.507722   \n",
       "1   India  21-02-2025 14:00:00  0.569993   1.522069      -0.832372   \n",
       "2   India  21-02-2025 14:00:00  0.569993   1.522069      -0.913534   \n",
       "3   India  21-02-2025 14:00:00  0.817516   1.190632       2.941679   \n",
       "4   India  21-02-2025 14:00:00  0.817516   1.190632      -0.507722   \n",
       "\n",
       "   pollutant_max  pollutant_avg         AQI  pollutant_id_NH3  \\\n",
       "0      -0.793731      -0.769351    3.000000                 1   \n",
       "1       0.616121       0.074876   58.538462                 0   \n",
       "2      -0.358917      -0.793472   11.000000                 0   \n",
       "3       2.249969       3.065853  147.510067                 0   \n",
       "4      -0.754202      -0.648747   21.250000                 0   \n",
       "\n",
       "   pollutant_id_NO2  ...  station_Vile Parle West, Mumbai - MPCB  \\\n",
       "0                 0  ...                                       0   \n",
       "1                 0  ...                                       0   \n",
       "2                 0  ...                                       0   \n",
       "3                 0  ...                                       0   \n",
       "4                 0  ...                                       0   \n",
       "\n",
       "   station_Vinoba Nagara, Shivamogga - KSPCB  \\\n",
       "0                                          0   \n",
       "1                                          0   \n",
       "2                                          0   \n",
       "3                                          0   \n",
       "4                                          0   \n",
       "\n",
       "   station_Vivek Vihar, Delhi - DPCC  \\\n",
       "0                                  0   \n",
       "1                                  0   \n",
       "2                                  0   \n",
       "3                                  0   \n",
       "4                                  0   \n",
       "\n",
       "   station_Ward-32 Bapupara, Siliguri - WBPCB  station_Wazirpur, Delhi - DPCC  \\\n",
       "0                                           0                               0   \n",
       "1                                           0                               0   \n",
       "2                                           0                               0   \n",
       "3                                           0                               0   \n",
       "4                                           0                               0   \n",
       "\n",
       "   station_Worli, Mumbai - MPCB  station_Yamunapuram, Bulandshahr - UPPCB  \\\n",
       "0                             0                                         0   \n",
       "1                             0                                         0   \n",
       "2                             0                                         0   \n",
       "3                             0                                         0   \n",
       "4                             0                                         0   \n",
       "\n",
       "   station_Yerramukkapalli, Kadapa - APPCB  \\\n",
       "0                                        0   \n",
       "1                                        0   \n",
       "2                                        0   \n",
       "3                                        0   \n",
       "4                                        0   \n",
       "\n",
       "   station_Zero Point GICI, Gangtok - SSPCB  \\\n",
       "0                                         0   \n",
       "1                                         0   \n",
       "2                                         0   \n",
       "3                                         0   \n",
       "4                                         0   \n",
       "\n",
       "   station_Zoo Park, Hyderabad - TSPCB  \n",
       "0                                    0  \n",
       "1                                    0  \n",
       "2                                    0  \n",
       "3                                    0  \n",
       "4                                    0  \n",
       "\n",
       "[5 rows x 779 columns]"
      ]
     },
     "execution_count": 84,
     "metadata": {},
     "output_type": "execute_result"
    }
   ],
   "source": [
    "df.head()"
   ]
  },
  {
   "cell_type": "code",
   "execution_count": 85,
   "metadata": {},
   "outputs": [],
   "source": [
    "# Drop non-feature columns (if not done already)\n",
    "df = df.drop(columns=['country', 'last_update'])  # Drop unnecessary columns\n",
    "\n",
    "# Define features (X) and target variable (y)\n",
    "X = df.drop(columns=['AQI'])  # Features\n",
    "y = df['AQI']  # Target variable\n"
   ]
  },
  {
   "cell_type": "code",
   "execution_count": 86,
   "metadata": {},
   "outputs": [],
   "source": [
    "from sklearn.model_selection import train_test_split\n",
    "\n",
    "# Split data into training (80%) and testing (20%) sets\n",
    "X_train, X_test, y_train, y_test = train_test_split(X, y, test_size=0.2, random_state=42)\n"
   ]
  },
  {
   "cell_type": "code",
   "execution_count": 87,
   "metadata": {},
   "outputs": [
    {
     "data": {
      "text/plain": [
       "LinearRegression()"
      ]
     },
     "execution_count": 87,
     "metadata": {},
     "output_type": "execute_result"
    }
   ],
   "source": [
    "from sklearn.linear_model import LinearRegression\n",
    "\n",
    "# Initialize model\n",
    "model = LinearRegression()\n",
    "\n",
    "# Train the model\n",
    "model.fit(X_train, y_train)\n"
   ]
  },
  {
   "cell_type": "code",
   "execution_count": 88,
   "metadata": {},
   "outputs": [
    {
     "name": "stdout",
     "output_type": "stream",
     "text": [
      "MAE: 51.73585790867916\n",
      "MSE: 5429.266660950791\n",
      "R² Score: 0.43953872977809216\n"
     ]
    }
   ],
   "source": [
    "from sklearn.metrics import mean_absolute_error, mean_squared_error, r2_score\n",
    "\n",
    "# Make predictions on test set\n",
    "y_pred = model.predict(X_test)\n",
    "\n",
    "# Evaluate performance\n",
    "mae = mean_absolute_error(y_test, y_pred)\n",
    "mse = mean_squared_error(y_test, y_pred)\n",
    "r2 = r2_score(y_test, y_pred)\n",
    "\n",
    "print(f'MAE: {mae}')\n",
    "print(f'MSE: {mse}')\n",
    "print(f'R² Score: {r2}')\n"
   ]
  },
  {
   "cell_type": "code",
   "execution_count": 89,
   "metadata": {},
   "outputs": [
    {
     "data": {
      "image/png": "[encoded data removed]",
      "text/plain": [
       "<Figure size 432x288 with 1 Axes>"
      ]
     },
     "metadata": {
      "needs_background": "light"
     },
     "output_type": "display_data"
    }
   ],
   "source": [
    "import seaborn as sns\n",
    "import matplotlib.pyplot as plt\n",
    "\n",
    "sns.boxplot(df['AQI'])\n",
    "plt.show()\n"
   ]
  },
  {
   "cell_type": "code",
   "execution_count": 90,
   "metadata": {},
   "outputs": [],
   "source": [
    "import numpy as np\n",
    "\n",
    "df['AQI'] = np.log1p(df['AQI'])  # Log transformation\n"
   ]
  },
  {
   "cell_type": "code",
   "execution_count": 91,
   "metadata": {},
   "outputs": [
    {
     "data": {
      "image/png": "[encoded data removed]",
      "text/plain": [
       "<Figure size 432x288 with 1 Axes>"
      ]
     },
     "metadata": {
      "needs_background": "light"
     },
     "output_type": "display_data"
    }
   ],
   "source": [
    "import seaborn as sns\n",
    "import matplotlib.pyplot as plt\n",
    "\n",
    "sns.boxplot(df['AQI'])\n",
    "plt.show()\n"
   ]
  },
  {
   "cell_type": "code",
   "execution_count": 92,
   "metadata": {},
   "outputs": [],
   "source": [
    "from sklearn.model_selection import train_test_split\n",
    "\n",
    "# Split data into training (80%) and testing (20%) sets\n",
    "X_train, X_test, y_train, y_test = train_test_split(X, y, test_size=0.2, random_state=42)\n"
   ]
  },
  {
   "cell_type": "code",
   "execution_count": 93,
   "metadata": {},
   "outputs": [
    {
     "data": {
      "text/plain": [
       "LinearRegression()"
      ]
     },
     "execution_count": 93,
     "metadata": {},
     "output_type": "execute_result"
    }
   ],
   "source": [
    "from sklearn.linear_model import LinearRegression\n",
    "\n",
    "# Initialize model\n",
    "model = LinearRegression()\n",
    "\n",
    "# Train the model\n",
    "model.fit(X_train, y_train)\n"
   ]
  },
  {
   "cell_type": "code",
   "execution_count": 94,
   "metadata": {},
   "outputs": [
    {
     "name": "stdout",
     "output_type": "stream",
     "text": [
      "MAE: 0.5872904568257264\n",
      "MSE: 0.5814043146353911\n",
      "R² Score: 0.7046563795813007\n"
     ]
    }
   ],
   "source": [
    "from sklearn.metrics import mean_absolute_error, mean_squared_error, r2_score\n",
    "\n",
    "# Make predictions on test set\n",
    "y_pred = model.predict(X_test)\n",
    "\n",
    "# Evaluate performance\n",
    "mae = mean_absolute_error(y_test, y_pred)\n",
    "mse = mean_squared_error(y_test, y_pred)\n",
    "r2 = r2_score(y_test, y_pred)\n",
    "\n",
    "print(f'MAE: {mae}')\n",
    "print(f'MSE: {mse}')\n",
    "print(f'R² Score: {r2}')\n"
   ]
  },
  {
   "cell_type": "code",
   "execution_count": 95,
   "metadata": {},
   "outputs": [
    {
     "name": "stdout",
     "output_type": "stream",
     "text": [
      "Random Forest R² Score: 0.9493416183498872\n"
     ]
    }
   ],
   "source": [
    "from sklearn.ensemble import RandomForestRegressor\n",
    "from sklearn.model_selection import train_test_split\n",
    "\n",
    "# Split data\n",
    "X_train, X_test, y_train, y_test = train_test_split(X, y, test_size=0.2, random_state=42)\n",
    "\n",
    "# Train a Random Forest model\n",
    "rf_model = RandomForestRegressor(n_estimators=100, random_state=42)\n",
    "rf_model.fit(X_train, y_train)\n",
    "\n",
    "# Evaluate\n",
    "y_pred_rf = rf_model.predict(X_test)\n",
    "print(f\"Random Forest R² Score: {r2_score(y_test, y_pred_rf)}\")\n"
   ]
  },
  {
   "cell_type": "code",
   "execution_count": 96,
   "metadata": {},
   "outputs": [
    {
     "name": "stdout",
     "output_type": "stream",
     "text": [
      "Training R² Score: 0.994432770226601\n",
      "Test R² Score: 0.9493416183498872\n"
     ]
    }
   ],
   "source": [
    "train_pred_rf = rf_model.predict(X_train)\n",
    "train_r2 = r2_score(y_train, train_pred_rf)\n",
    "test_r2 = r2_score(y_test, y_pred_rf)\n",
    "\n",
    "print(f\"Training R² Score: {train_r2}\")\n",
    "print(f\"Test R² Score: {test_r2}\")\n"
   ]
  },
  {
   "cell_type": "code",
   "execution_count": 97,
   "metadata": {},
   "outputs": [
    {
     "name": "stdout",
     "output_type": "stream",
     "text": [
      "Cross-Validation R² Scores: [0.97494596 0.94778634 0.9781359  0.9648453  0.93784261]\n",
      "Mean CV R² Score: 0.9607112240192045\n"
     ]
    }
   ],
   "source": [
    "from sklearn.model_selection import cross_val_score\n",
    "\n",
    "cv_scores = cross_val_score(rf_model, X, y, cv=5, scoring='r2')\n",
    "print(f\"Cross-Validation R² Scores: {cv_scores}\")\n",
    "print(f\"Mean CV R² Score: {cv_scores.mean()}\")\n"
   ]
  },
  {
   "cell_type": "code",
   "execution_count": null,
   "metadata": {},
   "outputs": [],
   "source": []
  }
 ],
 "metadata": {
  "kernelspec": {
   "display_name": "Python [conda env:base] *",
   "language": "python",
   "name": "conda-base-py"
  },
  "language_info": {
   "codemirror_mode": {
    "name": "ipython",
    "version": 3
   },
   "file_extension": ".py",
   "mimetype": "text/x-python",
   "name": "python",
   "nbconvert_exporter": "python",
   "pygments_lexer": "ipython3",
   "version": "3.12.7"
  }
 },
 "nbformat": 4,
 "nbformat_minor": 4
}
